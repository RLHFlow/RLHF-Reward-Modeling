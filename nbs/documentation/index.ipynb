{
 "cells": [
  {
   "cell_type": "code",
   "execution_count": null,
   "metadata": {},
   "outputs": [],
   "source": [
    "#| hide\n",
    "from diffusion_curvature.datasets import *\n",
    "from diffusion_curvature.kernels import *\n",
    "from nbdev import show_doc\n",
    "%load_ext autoreload\n",
    "%autoreload 2"
   ]
  },
  {
   "cell_type": "markdown",
   "metadata": {},
   "source": [
    "# repo_name\n",
    "\n",
    "> repo_description"
   ]
  },
  {
   "cell_type": "markdown",
   "metadata": {},
   "source": [
    "*Elevator pitch for your project*"
   ]
  },
  {
   "cell_type": "markdown",
   "metadata": {},
   "source": [
    "## Install"
   ]
  },
  {
   "cell_type": "markdown",
   "metadata": {},
   "source": [
    "<!-- Instructions for the end user. Conda preferred. -->\n",
    "\n",
    "**N.B.** This code is in early beta, and not yet available for general use. Those interested in it nonetheless can install it with a *development install*, as described below.\n",
    "\n"
   ]
  },
  {
   "cell_type": "markdown",
   "metadata": {},
   "source": [
    "## Usage"
   ]
  },
  {
   "cell_type": "markdown",
   "metadata": {},
   "source": [
    "## Development Install\n",
    "\n",
    "Clone this repo, and install `pixi` [from prefix.dev](https://prefix.dev).\n",
    "\n",
    "Then consult the notes in `zettels/readme-zetteldev`."
   ]
  }
 ],
 "metadata": {
  "kernelspec": {
   "display_name": "python3",
   "language": "python",
   "name": "python3"
  }
 },
 "nbformat": 4,
 "nbformat_minor": 4
}
